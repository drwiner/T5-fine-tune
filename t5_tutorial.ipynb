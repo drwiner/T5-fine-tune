{
 "cells": [
  {
   "cell_type": "code",
   "execution_count": 1,
   "metadata": {
    "collapsed": true,
    "ExecuteTime": {
     "end_time": "2023-05-19T12:25:28.149547Z",
     "start_time": "2023-05-19T12:25:19.914694Z"
    }
   },
   "outputs": [],
   "source": [
    "import json\n",
    "import os\n",
    "import time\n",
    "import re\n",
    "import logging\n",
    "import random\n",
    "\n",
    "from itertools import chain\n",
    "from string import punctuation\n",
    "\n",
    "\n",
    "import pandas as pd\n",
    "import torch\n",
    "import numpy as np\n",
    "from torch.utils.data import Dataset, DataLoader\n",
    "from transformers import (AdamW, T5ForConditionalGeneration, T5Tokenizer, get_linear_schedule_with_warmup)\n",
    "import pytorch_lightning as pl\n",
    "\n",
    "from termcolor import colored\n",
    "from sklearn.model_selection import train_test_split\n",
    "from pathlib import Path"
   ]
  },
  {
   "cell_type": "code",
   "execution_count": 2,
   "outputs": [
    {
     "name": "stderr",
     "output_type": "stream",
     "text": [
      "Global seed set to 42\n"
     ]
    },
    {
     "data": {
      "text/plain": "42"
     },
     "execution_count": 2,
     "metadata": {},
     "output_type": "execute_result"
    }
   ],
   "source": [
    "pl.seed_everything(42)"
   ],
   "metadata": {
    "collapsed": false,
    "ExecuteTime": {
     "end_time": "2023-05-19T12:25:46.516414Z",
     "start_time": "2023-05-19T12:25:46.502138Z"
    }
   }
  },
  {
   "cell_type": "code",
   "execution_count": 7,
   "outputs": [],
   "source": [
    "with Path(\"./datasets/QA/BioASQ/BioASQ-train-factoid-4b.json\").open() as json_file:\n",
    "    data = json.load(json_file)"
   ],
   "metadata": {
    "collapsed": false,
    "ExecuteTime": {
     "end_time": "2023-05-19T12:53:41.599148Z",
     "start_time": "2023-05-19T12:53:41.573140Z"
    }
   }
  },
  {
   "cell_type": "code",
   "execution_count": 10,
   "outputs": [
    {
     "data": {
      "text/plain": "dict_keys(['data', 'version'])"
     },
     "execution_count": 10,
     "metadata": {},
     "output_type": "execute_result"
    }
   ],
   "source": [
    "data.keys()"
   ],
   "metadata": {
    "collapsed": false,
    "ExecuteTime": {
     "end_time": "2023-05-19T12:54:06.495071Z",
     "start_time": "2023-05-19T12:54:06.493102Z"
    }
   }
  },
  {
   "cell_type": "code",
   "execution_count": null,
   "outputs": [],
   "source": [
    "data[\"version\"]"
   ],
   "metadata": {
    "collapsed": false
   }
  },
  {
   "cell_type": "code",
   "execution_count": 12,
   "outputs": [
    {
     "data": {
      "text/plain": "dict_keys(['paragraphs', 'title'])"
     },
     "execution_count": 12,
     "metadata": {},
     "output_type": "execute_result"
    }
   ],
   "source": [
    "data[\"data\"][0].keys()"
   ],
   "metadata": {
    "collapsed": false,
    "ExecuteTime": {
     "end_time": "2023-05-19T12:54:32.819548Z",
     "start_time": "2023-05-19T12:54:32.817593Z"
    }
   }
  },
  {
   "cell_type": "code",
   "execution_count": 14,
   "outputs": [
    {
     "data": {
      "text/plain": "'BioASQ6b'"
     },
     "execution_count": 14,
     "metadata": {},
     "output_type": "execute_result"
    }
   ],
   "source": [
    "data[\"data\"][0][\"title\"]"
   ],
   "metadata": {
    "collapsed": false,
    "ExecuteTime": {
     "end_time": "2023-05-19T12:54:43.685173Z",
     "start_time": "2023-05-19T12:54:43.683748Z"
    }
   }
  },
  {
   "cell_type": "code",
   "execution_count": 16,
   "outputs": [
    {
     "data": {
      "text/plain": "3266"
     },
     "execution_count": 16,
     "metadata": {},
     "output_type": "execute_result"
    }
   ],
   "source": [
    "len(data[\"data\"][0][\"paragraphs\"])"
   ],
   "metadata": {
    "collapsed": false,
    "ExecuteTime": {
     "end_time": "2023-05-19T12:55:15.837966Z",
     "start_time": "2023-05-19T12:55:15.834179Z"
    }
   }
  },
  {
   "cell_type": "code",
   "execution_count": 17,
   "outputs": [],
   "source": [
    "questions = data[\"data\"][0][\"paragraphs\"]"
   ],
   "metadata": {
    "collapsed": false,
    "ExecuteTime": {
     "end_time": "2023-05-19T12:55:29.133723Z",
     "start_time": "2023-05-19T12:55:29.116624Z"
    }
   }
  },
  {
   "cell_type": "code",
   "execution_count": 18,
   "outputs": [
    {
     "data": {
      "text/plain": "{'qas': [{'id': '52bf208003868f1b06000019_002',\n   'question': 'What is the inheritance pattern of Li–Fraumeni syndrome?',\n   'answers': [{'text': 'autosomal dominant', 'answer_start': 213}]}],\n 'context': 'Balanced t(11;15)(q23;q15) in a TP53+/+ breast cancer patient from a Li-Fraumeni syndrome family. Li-Fraumeni Syndrome (LFS) is characterized by early-onset carcinogenesis involving multiple tumor types and shows autosomal dominant inheritance. Approximately 70% of LFS cases are due to germline mutations in the TP53 gene on chromosome 17p13.1. Mutations have also been found in the CHEK2 gene on chromosome 22q11, and others have been mapped to chromosome 11q23. While characterizing an LFS family with a documented defect in TP53, we found one family member who developed bilateral breast cancer at age 37 yet was homozygous for wild-type TP53. Her mother also developed early-onset primary bilateral breast cancer, and a sister had unilateral breast cancer and a soft tissue sarcoma. Cytogenetic analysis using fluorescence in situ hybridization of a primary skin fibroblast cell line revealed that the patient had a novel balanced reciprocal translocation between the long arms of chromosomes 11 and 15: t(11;15)(q23;q15). This translocation was not present in a primary skin fibroblast cell line from a brother with neuroblastoma, who was heterozygous for the TP53 mutation. There was no evidence of acute lymphoblastic leukemia in either the patient or her mother, although a nephew did develop leukemia and died in childhood. These data may implicate the region at breakpoint 11q23 and/or 15q15 as playing a significant role in predisposition to breast cancer development.'}"
     },
     "execution_count": 18,
     "metadata": {},
     "output_type": "execute_result"
    }
   ],
   "source": [
    "questions[0]"
   ],
   "metadata": {
    "collapsed": false,
    "ExecuteTime": {
     "end_time": "2023-05-19T12:55:36.623856Z",
     "start_time": "2023-05-19T12:55:36.619935Z"
    }
   }
  },
  {
   "cell_type": "code",
   "execution_count": 19,
   "outputs": [],
   "source": [
    "def extract_questions_and_answer(factoid_path: Path):\n",
    "    with factoid_path.open() as json_file:\n",
    "        data = json.load(json_file)\n",
    "\n",
    "    questions = data[\"data\"][0][\"paragraphs\"]\n",
    "    data_rows = []\n",
    "\n",
    "    for question in questions:\n",
    "        context = question[\"context\"]\n",
    "        for qa in question[\"qas\"]:\n",
    "            question_text = qa[\"question\"]\n",
    "            answer_text = qa[\"answers\"]\n",
    "            for answer in answer_text:\n",
    "                answer_text = answer[\"text\"]\n",
    "                answer_start = answer[\"answer_start\"]\n",
    "                answer_end = answer_start + len(answer_text)\n",
    "\n",
    "                data_rows.append({\n",
    "                    \"question\": question_text,\n",
    "                    \"context\": context,\n",
    "                    \"answer\": answer_text,\n",
    "                    \"answer_start\": answer_start,\n",
    "                    \"answer_end\": answer_end\n",
    "                })\n",
    "\n",
    "    return pd.DataFrame(data_rows)"
   ],
   "metadata": {
    "collapsed": false,
    "ExecuteTime": {
     "end_time": "2023-05-19T13:04:30.021631Z",
     "start_time": "2023-05-19T13:04:30.018550Z"
    }
   }
  },
  {
   "cell_type": "code",
   "execution_count": 21,
   "outputs": [
    {
     "data": {
      "text/plain": "                                            question   \n0  What is the inheritance pattern of Li–Fraumeni...  \\\n1  What is the inheritance pattern of Li–Fraumeni...   \n2    Which type of lung cancer is afatinib used for?   \n3  Which hormone abnormalities are characteristic...   \n4  Which hormone abnormalities are characteristic...   \n\n                                             context              answer   \n0  Balanced t(11;15)(q23;q15) in a TP53+/+ breast...  autosomal dominant  \\\n1  Genetic modeling of Li-Fraumeni syndrome in ze...  autosomal dominant   \n2  Clinical perspective of afatinib in non-small ...   EGFR-mutant NSCLC   \n3  DOCA sensitive pendrin expression in kidney, h...             thyroid   \n4  Clinical and molecular characteristics of Pend...             thyroid   \n\n   answer_start  answer_end  \n0           213         231  \n1           105         123  \n2          1203        1220  \n3           419         426  \n4           705         712  ",
      "text/html": "<div>\n<style scoped>\n    .dataframe tbody tr th:only-of-type {\n        vertical-align: middle;\n    }\n\n    .dataframe tbody tr th {\n        vertical-align: top;\n    }\n\n    .dataframe thead th {\n        text-align: right;\n    }\n</style>\n<table border=\"1\" class=\"dataframe\">\n  <thead>\n    <tr style=\"text-align: right;\">\n      <th></th>\n      <th>question</th>\n      <th>context</th>\n      <th>answer</th>\n      <th>answer_start</th>\n      <th>answer_end</th>\n    </tr>\n  </thead>\n  <tbody>\n    <tr>\n      <th>0</th>\n      <td>What is the inheritance pattern of Li–Fraumeni...</td>\n      <td>Balanced t(11;15)(q23;q15) in a TP53+/+ breast...</td>\n      <td>autosomal dominant</td>\n      <td>213</td>\n      <td>231</td>\n    </tr>\n    <tr>\n      <th>1</th>\n      <td>What is the inheritance pattern of Li–Fraumeni...</td>\n      <td>Genetic modeling of Li-Fraumeni syndrome in ze...</td>\n      <td>autosomal dominant</td>\n      <td>105</td>\n      <td>123</td>\n    </tr>\n    <tr>\n      <th>2</th>\n      <td>Which type of lung cancer is afatinib used for?</td>\n      <td>Clinical perspective of afatinib in non-small ...</td>\n      <td>EGFR-mutant NSCLC</td>\n      <td>1203</td>\n      <td>1220</td>\n    </tr>\n    <tr>\n      <th>3</th>\n      <td>Which hormone abnormalities are characteristic...</td>\n      <td>DOCA sensitive pendrin expression in kidney, h...</td>\n      <td>thyroid</td>\n      <td>419</td>\n      <td>426</td>\n    </tr>\n    <tr>\n      <th>4</th>\n      <td>Which hormone abnormalities are characteristic...</td>\n      <td>Clinical and molecular characteristics of Pend...</td>\n      <td>thyroid</td>\n      <td>705</td>\n      <td>712</td>\n    </tr>\n  </tbody>\n</table>\n</div>"
     },
     "execution_count": 21,
     "metadata": {},
     "output_type": "execute_result"
    }
   ],
   "source": [
    "extract_questions_and_answer(Path(\"./datasets/QA/BioASQ/BioASQ-train-factoid-4b.json\")).head()"
   ],
   "metadata": {
    "collapsed": false,
    "ExecuteTime": {
     "end_time": "2023-05-19T13:09:30.672300Z",
     "start_time": "2023-05-19T13:09:30.648121Z"
    }
   }
  },
  {
   "cell_type": "code",
   "execution_count": 25,
   "outputs": [
    {
     "data": {
      "text/plain": "[PosixPath('datasets/QA/BioASQ/BioASQ-train-factoid-4b.json'),\n PosixPath('datasets/QA/BioASQ/BioASQ-train-factoid-5b.json'),\n PosixPath('datasets/QA/BioASQ/BioASQ-train-factoid-6b.json'),\n PosixPath('datasets/QA/BioASQ/BioASQ-train-factoid-7b.json')]"
     },
     "execution_count": 25,
     "metadata": {},
     "output_type": "execute_result"
    }
   ],
   "source": [
    "factoid_paths = sorted(list(Path(\"./datasets/QA/BioASQ\").glob(\"BioASQ-train-factoid-*\")))\n",
    "factoid_paths"
   ],
   "metadata": {
    "collapsed": false,
    "ExecuteTime": {
     "end_time": "2023-05-19T13:12:15.262280Z",
     "start_time": "2023-05-19T13:12:15.258056Z"
    }
   }
  },
  {
   "cell_type": "code",
   "execution_count": 27,
   "outputs": [],
   "source": [
    "dfs = []\n",
    "for factoid_path in factoid_paths:\n",
    "    dfs.append(extract_questions_and_answer(factoid_path))\n",
    "\n",
    "df = pd.concat(dfs)"
   ],
   "metadata": {
    "collapsed": false,
    "ExecuteTime": {
     "end_time": "2023-05-19T13:12:53.544096Z",
     "start_time": "2023-05-19T13:12:53.453624Z"
    }
   }
  },
  {
   "cell_type": "code",
   "execution_count": 28,
   "outputs": [
    {
     "data": {
      "text/plain": "                                            question   \n0  What is the inheritance pattern of Li–Fraumeni...  \\\n1  What is the inheritance pattern of Li–Fraumeni...   \n2    Which type of lung cancer is afatinib used for?   \n3  Which hormone abnormalities are characteristic...   \n4  Which hormone abnormalities are characteristic...   \n\n                                             context              answer   \n0  Balanced t(11;15)(q23;q15) in a TP53+/+ breast...  autosomal dominant  \\\n1  Genetic modeling of Li-Fraumeni syndrome in ze...  autosomal dominant   \n2  Clinical perspective of afatinib in non-small ...   EGFR-mutant NSCLC   \n3  DOCA sensitive pendrin expression in kidney, h...             thyroid   \n4  Clinical and molecular characteristics of Pend...             thyroid   \n\n   answer_start  answer_end  \n0           213         231  \n1           105         123  \n2          1203        1220  \n3           419         426  \n4           705         712  ",
      "text/html": "<div>\n<style scoped>\n    .dataframe tbody tr th:only-of-type {\n        vertical-align: middle;\n    }\n\n    .dataframe tbody tr th {\n        vertical-align: top;\n    }\n\n    .dataframe thead th {\n        text-align: right;\n    }\n</style>\n<table border=\"1\" class=\"dataframe\">\n  <thead>\n    <tr style=\"text-align: right;\">\n      <th></th>\n      <th>question</th>\n      <th>context</th>\n      <th>answer</th>\n      <th>answer_start</th>\n      <th>answer_end</th>\n    </tr>\n  </thead>\n  <tbody>\n    <tr>\n      <th>0</th>\n      <td>What is the inheritance pattern of Li–Fraumeni...</td>\n      <td>Balanced t(11;15)(q23;q15) in a TP53+/+ breast...</td>\n      <td>autosomal dominant</td>\n      <td>213</td>\n      <td>231</td>\n    </tr>\n    <tr>\n      <th>1</th>\n      <td>What is the inheritance pattern of Li–Fraumeni...</td>\n      <td>Genetic modeling of Li-Fraumeni syndrome in ze...</td>\n      <td>autosomal dominant</td>\n      <td>105</td>\n      <td>123</td>\n    </tr>\n    <tr>\n      <th>2</th>\n      <td>Which type of lung cancer is afatinib used for?</td>\n      <td>Clinical perspective of afatinib in non-small ...</td>\n      <td>EGFR-mutant NSCLC</td>\n      <td>1203</td>\n      <td>1220</td>\n    </tr>\n    <tr>\n      <th>3</th>\n      <td>Which hormone abnormalities are characteristic...</td>\n      <td>DOCA sensitive pendrin expression in kidney, h...</td>\n      <td>thyroid</td>\n      <td>419</td>\n      <td>426</td>\n    </tr>\n    <tr>\n      <th>4</th>\n      <td>Which hormone abnormalities are characteristic...</td>\n      <td>Clinical and molecular characteristics of Pend...</td>\n      <td>thyroid</td>\n      <td>705</td>\n      <td>712</td>\n    </tr>\n  </tbody>\n</table>\n</div>"
     },
     "execution_count": 28,
     "metadata": {},
     "output_type": "execute_result"
    }
   ],
   "source": [
    "df.head()"
   ],
   "metadata": {
    "collapsed": false,
    "ExecuteTime": {
     "end_time": "2023-05-19T13:12:58.298410Z",
     "start_time": "2023-05-19T13:12:58.292737Z"
    }
   }
  },
  {
   "cell_type": "code",
   "execution_count": 29,
   "outputs": [
    {
     "data": {
      "text/plain": "(17219, 5)"
     },
     "execution_count": 29,
     "metadata": {},
     "output_type": "execute_result"
    }
   ],
   "source": [
    "df.shape"
   ],
   "metadata": {
    "collapsed": false,
    "ExecuteTime": {
     "end_time": "2023-05-19T13:13:02.986375Z",
     "start_time": "2023-05-19T13:13:02.983314Z"
    }
   }
  },
  {
   "cell_type": "code",
   "execution_count": 30,
   "outputs": [
    {
     "data": {
      "text/plain": "557"
     },
     "execution_count": 30,
     "metadata": {},
     "output_type": "execute_result"
    }
   ],
   "source": [
    "len(df.question.unique())"
   ],
   "metadata": {
    "collapsed": false,
    "ExecuteTime": {
     "end_time": "2023-05-19T13:15:52.836398Z",
     "start_time": "2023-05-19T13:15:52.832566Z"
    }
   }
  },
  {
   "cell_type": "code",
   "execution_count": 31,
   "outputs": [
    {
     "data": {
      "text/plain": "6161"
     },
     "execution_count": 31,
     "metadata": {},
     "output_type": "execute_result"
    }
   ],
   "source": [
    "len(df.context.unique())"
   ],
   "metadata": {
    "collapsed": false,
    "ExecuteTime": {
     "end_time": "2023-05-19T13:16:05.610500Z",
     "start_time": "2023-05-19T13:16:05.561313Z"
    }
   }
  },
  {
   "cell_type": "code",
   "execution_count": 32,
   "outputs": [
    {
     "data": {
      "text/plain": "3431677"
     },
     "execution_count": 32,
     "metadata": {},
     "output_type": "execute_result"
    }
   ],
   "source": [],
   "metadata": {
    "collapsed": false,
    "ExecuteTime": {
     "end_time": "2023-05-19T13:16:20.558906Z",
     "start_time": "2023-05-19T13:16:20.555338Z"
    }
   }
  }
 ],
 "metadata": {
  "kernelspec": {
   "display_name": "Python 3",
   "language": "python",
   "name": "python3"
  },
  "language_info": {
   "codemirror_mode": {
    "name": "ipython",
    "version": 2
   },
   "file_extension": ".py",
   "mimetype": "text/x-python",
   "name": "python",
   "nbconvert_exporter": "python",
   "pygments_lexer": "ipython2",
   "version": "2.7.6"
  }
 },
 "nbformat": 4,
 "nbformat_minor": 0
}
